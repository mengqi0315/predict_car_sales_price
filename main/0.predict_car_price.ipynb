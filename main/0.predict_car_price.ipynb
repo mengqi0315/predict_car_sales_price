{
 "cells": [
  {
   "cell_type": "code",
   "execution_count": 2,
   "metadata": {},
   "outputs": [],
   "source": [
    "import numpy as np\n",
    "import pandas as pd\n",
    "import sklearn.preprocessing \n",
    "import matplotlib.pyplot as plt\n",
    "pd.set_option('display.max_columns',1000)\n",
    "pd.set_option('display.max_columns',None)\n",
    "pd.set_option('display.width',1000)\n",
    "pd.set_option('display.max_colwidth',1000)"
   ]
  },
  {
   "cell_type": "code",
   "execution_count": 3,
   "metadata": {},
   "outputs": [
    {
     "output_type": "stream",
     "name": "stdout",
     "text": "(50000, 30)\n(150000, 31)\n"
    }
   ],
   "source": [
    "# 一、首先读入数据\n",
    "df_testA = pd.read_csv('../dataset/used_car_testA_20200313/used_car_testA_20200313.csv',sep=' ')\n",
    "print(df_testA.shape)\n",
    "df_train =  pd.read_csv('../dataset/used_car_train_20200313/used_car_train_20200313.csv',sep=' ')\n",
    "print(df_train.shape)"
   ]
  },
  {
   "cell_type": "code",
   "execution_count": 4,
   "metadata": {},
   "outputs": [
    {
     "output_type": "execute_result",
     "data": {
      "text/plain": "Index(['SaleID', 'name', 'regDate', 'model', 'brand', 'bodyType', 'fuelType', 'gearbox', 'power', 'kilometer', 'notRepairedDamage', 'regionCode', 'seller', 'offerType', 'creatDate', 'price', 'v_0', 'v_1', 'v_2', 'v_3', 'v_4', 'v_5', 'v_6', 'v_7', 'v_8', 'v_9', 'v_10', 'v_11', 'v_12', 'v_13', 'v_14'], dtype='object')"
     },
     "metadata": {},
     "execution_count": 4
    }
   ],
   "source": [
    "# 二、然后对数据描述性分析 \n",
    "# 1.描述性分析\n",
    "list_columns_df_train = [i for i in df_train.columns]\n",
    "df_train.columns"
   ]
  },
  {
   "cell_type": "code",
   "execution_count": 5,
   "metadata": {},
   "outputs": [
    {
     "output_type": "execute_result",
     "data": {
      "text/plain": "              SaleID           name       regDate          model          brand       bodyType       fuelType        gearbox          power      kilometer     regionCode         seller  offerType     creatDate          price            v_0            v_1            v_2            v_3            v_4            v_5            v_6            v_7            v_8            v_9           v_10           v_11           v_12           v_13           v_14\ncount  150000.000000  150000.000000  1.500000e+05  149999.000000  150000.000000  145494.000000  141320.000000  144019.000000  150000.000000  150000.000000  150000.000000  150000.000000   150000.0  1.500000e+05  150000.000000  150000.000000  150000.000000  150000.000000  150000.000000  150000.000000  150000.000000  150000.000000  150000.000000  150000.000000  150000.000000  150000.000000  150000.000000  150000.000000  150000.000000  150000.000000\nmean    74999.500000   68349.172873  2.003417e+07      47.129021       8.052733       1.792369       0.375842       0.224943     119.316547      12.597160    2583.077267       0.000007        0.0  2.016033e+07    5923.327333      44.406268      -0.044809       0.080765       0.078833       0.017875       0.248204       0.044923       0.124692       0.058144       0.061996      -0.001000       0.009035       0.004813       0.000313      -0.000688\nstd     43301.414527   61103.875095  5.364988e+04      49.536040       7.864956       1.760640       0.548677       0.417546     177.168419       3.919576    1885.363218       0.002582        0.0  1.067328e+02    7501.998477       2.457548       3.641893       2.929618       2.026514       1.193661       0.045804       0.051743       0.201410       0.029186       0.035692       3.772386       3.286071       2.517478       1.288988       1.038685\nmin         0.000000       0.000000  1.991000e+07       0.000000       0.000000       0.000000       0.000000       0.000000       0.000000       0.500000       0.000000       0.000000        0.0  2.015062e+07      11.000000      30.451976      -4.295589      -4.470671      -7.275037      -4.364565       0.000000       0.000000       0.000000       0.000000       0.000000      -9.168192      -5.558207      -9.639552      -4.153899      -6.546556\n25%     37499.750000   11156.000000  1.999091e+07      10.000000       1.000000       0.000000       0.000000       0.000000      75.000000      12.500000    1018.000000       0.000000        0.0  2.016031e+07    1300.000000      43.135799      -3.192349      -0.970671      -1.462580      -0.921191       0.243615       0.000038       0.062474       0.035334       0.033930      -3.722303      -1.951543      -1.871846      -1.057789      -0.437034\n50%     74999.500000   51638.000000  2.003091e+07      30.000000       6.000000       1.000000       0.000000       0.000000     110.000000      15.000000    2196.000000       0.000000        0.0  2.016032e+07    3250.000000      44.610266      -3.052671      -0.382947       0.099722      -0.075910       0.257798       0.000812       0.095866       0.057014       0.058484       1.624076      -0.358053      -0.130753      -0.036245       0.141246\n75%    112499.250000  118841.250000  2.007111e+07      66.000000      13.000000       3.000000       1.000000       0.000000     150.000000      15.000000    3843.000000       0.000000        0.0  2.016033e+07    7700.000000      46.004721       4.000670       0.241335       1.565838       0.868758       0.265297       0.102009       0.125243       0.079382       0.087491       2.844357       1.255022       1.776933       0.942813       0.680378\nmax    149999.000000  196812.000000  2.015121e+07     247.000000      39.000000       7.000000       6.000000       1.000000   19312.000000      15.000000    8120.000000       1.000000        0.0  2.016041e+07   99999.000000      52.304178       7.320308      19.035496       9.854702       6.829352       0.291838       0.151420       1.404936       0.160791       0.222787      12.357011      18.819042      13.847792      11.147669       8.658418",
      "text/html": "<div>\n<style scoped>\n    .dataframe tbody tr th:only-of-type {\n        vertical-align: middle;\n    }\n\n    .dataframe tbody tr th {\n        vertical-align: top;\n    }\n\n    .dataframe thead th {\n        text-align: right;\n    }\n</style>\n<table border=\"1\" class=\"dataframe\">\n  <thead>\n    <tr style=\"text-align: right;\">\n      <th></th>\n      <th>SaleID</th>\n      <th>name</th>\n      <th>regDate</th>\n      <th>model</th>\n      <th>brand</th>\n      <th>bodyType</th>\n      <th>fuelType</th>\n      <th>gearbox</th>\n      <th>power</th>\n      <th>kilometer</th>\n      <th>regionCode</th>\n      <th>seller</th>\n      <th>offerType</th>\n      <th>creatDate</th>\n      <th>price</th>\n      <th>v_0</th>\n      <th>v_1</th>\n      <th>v_2</th>\n      <th>v_3</th>\n      <th>v_4</th>\n      <th>v_5</th>\n      <th>v_6</th>\n      <th>v_7</th>\n      <th>v_8</th>\n      <th>v_9</th>\n      <th>v_10</th>\n      <th>v_11</th>\n      <th>v_12</th>\n      <th>v_13</th>\n      <th>v_14</th>\n    </tr>\n  </thead>\n  <tbody>\n    <tr>\n      <th>count</th>\n      <td>150000.000000</td>\n      <td>150000.000000</td>\n      <td>1.500000e+05</td>\n      <td>149999.000000</td>\n      <td>150000.000000</td>\n      <td>145494.000000</td>\n      <td>141320.000000</td>\n      <td>144019.000000</td>\n      <td>150000.000000</td>\n      <td>150000.000000</td>\n      <td>150000.000000</td>\n      <td>150000.000000</td>\n      <td>150000.0</td>\n      <td>1.500000e+05</td>\n      <td>150000.000000</td>\n      <td>150000.000000</td>\n      <td>150000.000000</td>\n      <td>150000.000000</td>\n      <td>150000.000000</td>\n      <td>150000.000000</td>\n      <td>150000.000000</td>\n      <td>150000.000000</td>\n      <td>150000.000000</td>\n      <td>150000.000000</td>\n      <td>150000.000000</td>\n      <td>150000.000000</td>\n      <td>150000.000000</td>\n      <td>150000.000000</td>\n      <td>150000.000000</td>\n      <td>150000.000000</td>\n    </tr>\n    <tr>\n      <th>mean</th>\n      <td>74999.500000</td>\n      <td>68349.172873</td>\n      <td>2.003417e+07</td>\n      <td>47.129021</td>\n      <td>8.052733</td>\n      <td>1.792369</td>\n      <td>0.375842</td>\n      <td>0.224943</td>\n      <td>119.316547</td>\n      <td>12.597160</td>\n      <td>2583.077267</td>\n      <td>0.000007</td>\n      <td>0.0</td>\n      <td>2.016033e+07</td>\n      <td>5923.327333</td>\n      <td>44.406268</td>\n      <td>-0.044809</td>\n      <td>0.080765</td>\n      <td>0.078833</td>\n      <td>0.017875</td>\n      <td>0.248204</td>\n      <td>0.044923</td>\n      <td>0.124692</td>\n      <td>0.058144</td>\n      <td>0.061996</td>\n      <td>-0.001000</td>\n      <td>0.009035</td>\n      <td>0.004813</td>\n      <td>0.000313</td>\n      <td>-0.000688</td>\n    </tr>\n    <tr>\n      <th>std</th>\n      <td>43301.414527</td>\n      <td>61103.875095</td>\n      <td>5.364988e+04</td>\n      <td>49.536040</td>\n      <td>7.864956</td>\n      <td>1.760640</td>\n      <td>0.548677</td>\n      <td>0.417546</td>\n      <td>177.168419</td>\n      <td>3.919576</td>\n      <td>1885.363218</td>\n      <td>0.002582</td>\n      <td>0.0</td>\n      <td>1.067328e+02</td>\n      <td>7501.998477</td>\n      <td>2.457548</td>\n      <td>3.641893</td>\n      <td>2.929618</td>\n      <td>2.026514</td>\n      <td>1.193661</td>\n      <td>0.045804</td>\n      <td>0.051743</td>\n      <td>0.201410</td>\n      <td>0.029186</td>\n      <td>0.035692</td>\n      <td>3.772386</td>\n      <td>3.286071</td>\n      <td>2.517478</td>\n      <td>1.288988</td>\n      <td>1.038685</td>\n    </tr>\n    <tr>\n      <th>min</th>\n      <td>0.000000</td>\n      <td>0.000000</td>\n      <td>1.991000e+07</td>\n      <td>0.000000</td>\n      <td>0.000000</td>\n      <td>0.000000</td>\n      <td>0.000000</td>\n      <td>0.000000</td>\n      <td>0.000000</td>\n      <td>0.500000</td>\n      <td>0.000000</td>\n      <td>0.000000</td>\n      <td>0.0</td>\n      <td>2.015062e+07</td>\n      <td>11.000000</td>\n      <td>30.451976</td>\n      <td>-4.295589</td>\n      <td>-4.470671</td>\n      <td>-7.275037</td>\n      <td>-4.364565</td>\n      <td>0.000000</td>\n      <td>0.000000</td>\n      <td>0.000000</td>\n      <td>0.000000</td>\n      <td>0.000000</td>\n      <td>-9.168192</td>\n      <td>-5.558207</td>\n      <td>-9.639552</td>\n      <td>-4.153899</td>\n      <td>-6.546556</td>\n    </tr>\n    <tr>\n      <th>25%</th>\n      <td>37499.750000</td>\n      <td>11156.000000</td>\n      <td>1.999091e+07</td>\n      <td>10.000000</td>\n      <td>1.000000</td>\n      <td>0.000000</td>\n      <td>0.000000</td>\n      <td>0.000000</td>\n      <td>75.000000</td>\n      <td>12.500000</td>\n      <td>1018.000000</td>\n      <td>0.000000</td>\n      <td>0.0</td>\n      <td>2.016031e+07</td>\n      <td>1300.000000</td>\n      <td>43.135799</td>\n      <td>-3.192349</td>\n      <td>-0.970671</td>\n      <td>-1.462580</td>\n      <td>-0.921191</td>\n      <td>0.243615</td>\n      <td>0.000038</td>\n      <td>0.062474</td>\n      <td>0.035334</td>\n      <td>0.033930</td>\n      <td>-3.722303</td>\n      <td>-1.951543</td>\n      <td>-1.871846</td>\n      <td>-1.057789</td>\n      <td>-0.437034</td>\n    </tr>\n    <tr>\n      <th>50%</th>\n      <td>74999.500000</td>\n      <td>51638.000000</td>\n      <td>2.003091e+07</td>\n      <td>30.000000</td>\n      <td>6.000000</td>\n      <td>1.000000</td>\n      <td>0.000000</td>\n      <td>0.000000</td>\n      <td>110.000000</td>\n      <td>15.000000</td>\n      <td>2196.000000</td>\n      <td>0.000000</td>\n      <td>0.0</td>\n      <td>2.016032e+07</td>\n      <td>3250.000000</td>\n      <td>44.610266</td>\n      <td>-3.052671</td>\n      <td>-0.382947</td>\n      <td>0.099722</td>\n      <td>-0.075910</td>\n      <td>0.257798</td>\n      <td>0.000812</td>\n      <td>0.095866</td>\n      <td>0.057014</td>\n      <td>0.058484</td>\n      <td>1.624076</td>\n      <td>-0.358053</td>\n      <td>-0.130753</td>\n      <td>-0.036245</td>\n      <td>0.141246</td>\n    </tr>\n    <tr>\n      <th>75%</th>\n      <td>112499.250000</td>\n      <td>118841.250000</td>\n      <td>2.007111e+07</td>\n      <td>66.000000</td>\n      <td>13.000000</td>\n      <td>3.000000</td>\n      <td>1.000000</td>\n      <td>0.000000</td>\n      <td>150.000000</td>\n      <td>15.000000</td>\n      <td>3843.000000</td>\n      <td>0.000000</td>\n      <td>0.0</td>\n      <td>2.016033e+07</td>\n      <td>7700.000000</td>\n      <td>46.004721</td>\n      <td>4.000670</td>\n      <td>0.241335</td>\n      <td>1.565838</td>\n      <td>0.868758</td>\n      <td>0.265297</td>\n      <td>0.102009</td>\n      <td>0.125243</td>\n      <td>0.079382</td>\n      <td>0.087491</td>\n      <td>2.844357</td>\n      <td>1.255022</td>\n      <td>1.776933</td>\n      <td>0.942813</td>\n      <td>0.680378</td>\n    </tr>\n    <tr>\n      <th>max</th>\n      <td>149999.000000</td>\n      <td>196812.000000</td>\n      <td>2.015121e+07</td>\n      <td>247.000000</td>\n      <td>39.000000</td>\n      <td>7.000000</td>\n      <td>6.000000</td>\n      <td>1.000000</td>\n      <td>19312.000000</td>\n      <td>15.000000</td>\n      <td>8120.000000</td>\n      <td>1.000000</td>\n      <td>0.0</td>\n      <td>2.016041e+07</td>\n      <td>99999.000000</td>\n      <td>52.304178</td>\n      <td>7.320308</td>\n      <td>19.035496</td>\n      <td>9.854702</td>\n      <td>6.829352</td>\n      <td>0.291838</td>\n      <td>0.151420</td>\n      <td>1.404936</td>\n      <td>0.160791</td>\n      <td>0.222787</td>\n      <td>12.357011</td>\n      <td>18.819042</td>\n      <td>13.847792</td>\n      <td>11.147669</td>\n      <td>8.658418</td>\n    </tr>\n  </tbody>\n</table>\n</div>"
     },
     "metadata": {},
     "execution_count": 5
    }
   ],
   "source": [
    "# 2.描述性分析\n",
    "df_train.describe()"
   ]
  },
  {
   "cell_type": "code",
   "execution_count": 6,
   "metadata": {},
   "outputs": [
    {
     "output_type": "stream",
     "name": "stdout",
     "text": "<class 'pandas.core.frame.DataFrame'>\nRangeIndex: 150000 entries, 0 to 149999\nData columns (total 31 columns):\nSaleID               150000 non-null int64\nname                 150000 non-null int64\nregDate              150000 non-null int64\nmodel                149999 non-null float64\nbrand                150000 non-null int64\nbodyType             145494 non-null float64\nfuelType             141320 non-null float64\ngearbox              144019 non-null float64\npower                150000 non-null int64\nkilometer            150000 non-null float64\nnotRepairedDamage    150000 non-null object\nregionCode           150000 non-null int64\nseller               150000 non-null int64\nofferType            150000 non-null int64\ncreatDate            150000 non-null int64\nprice                150000 non-null int64\nv_0                  150000 non-null float64\nv_1                  150000 non-null float64\nv_2                  150000 non-null float64\nv_3                  150000 non-null float64\nv_4                  150000 non-null float64\nv_5                  150000 non-null float64\nv_6                  150000 non-null float64\nv_7                  150000 non-null float64\nv_8                  150000 non-null float64\nv_9                  150000 non-null float64\nv_10                 150000 non-null float64\nv_11                 150000 non-null float64\nv_12                 150000 non-null float64\nv_13                 150000 non-null float64\nv_14                 150000 non-null float64\ndtypes: float64(20), int64(10), object(1)\nmemory usage: 35.5+ MB\n"
    }
   ],
   "source": [
    "# 3.描述性分析\n",
    "df_train.info()"
   ]
  },
  {
   "cell_type": "code",
   "execution_count": 7,
   "metadata": {},
   "outputs": [
    {
     "output_type": "stream",
     "name": "stdout",
     "text": "Index(['SaleID', 'name', 'regDate', 'model', 'brand', 'bodyType', 'fuelType', 'gearbox', 'power', 'kilometer', 'regionCode', 'seller', 'offerType', 'creatDate', 'price', 'v_0', 'v_1', 'v_2', 'v_3', 'v_4', 'v_5', 'v_6', 'v_7', 'v_8', 'v_9', 'v_10', 'v_11', 'v_12', 'v_13', 'v_14'], dtype='object')\n"
    }
   ],
   "source": [
    "# 三、特征与标签构建过程，特征工程部分之数据预处理\n",
    "# 1.提取数值类型特征列名\n",
    "numerical_cols = df_train.select_dtypes(exclude='object').columns\n",
    "print(numerical_cols)"
   ]
  },
  {
   "cell_type": "code",
   "execution_count": 30,
   "metadata": {},
   "outputs": [
    {
     "output_type": "execute_result",
     "data": {
      "text/plain": "array([1046, 4366, 2806, ..., 7931, 2429, 8117], dtype=int64)"
     },
     "metadata": {},
     "execution_count": 30
    }
   ],
   "source": [
    "df_train['regionCode'].unique()"
   ]
  },
  {
   "cell_type": "code",
   "execution_count": 8,
   "metadata": {},
   "outputs": [
    {
     "output_type": "stream",
     "name": "stdout",
     "text": "Index(['notRepairedDamage'], dtype='object')\n"
    }
   ],
   "source": [
    "# 2.提取字符串类型的特征\n",
    "numerical_cols = df_train.select_dtypes(include='object').columns\n",
    "print(numerical_cols)"
   ]
  },
  {
   "cell_type": "code",
   "execution_count": 9,
   "metadata": {},
   "outputs": [
    {
     "output_type": "execute_result",
     "data": {
      "text/plain": "array(['0.0', '-', '1.0'], dtype=object)"
     },
     "metadata": {},
     "execution_count": 9
    }
   ],
   "source": [
    "# 2.1 查看该字符串存储数据特征的三个值的数据分类\n",
    "df_train['notRepairedDamage'].unique()  # 该特征包含三个值，需要进行哑变量变换处理下 "
   ]
  },
  {
   "cell_type": "code",
   "execution_count": 10,
   "metadata": {},
   "outputs": [
    {
     "output_type": "execute_result",
     "data": {
      "text/plain": "<matplotlib.axes._subplots.AxesSubplot at 0x130bcfffac8>"
     },
     "metadata": {},
     "execution_count": 10
    },
    {
     "output_type": "display_data",
     "data": {
      "text/plain": "<Figure size 432x288 with 1 Axes>",
      "image/svg+xml": "<?xml version=\"1.0\" encoding=\"utf-8\" standalone=\"no\"?>\r\n<!DOCTYPE svg PUBLIC \"-//W3C//DTD SVG 1.1//EN\"\r\n  \"http://www.w3.org/Graphics/SVG/1.1/DTD/svg11.dtd\">\r\n<!-- Created with matplotlib (https://matplotlib.org/) -->\r\n<svg height=\"248.518125pt\" version=\"1.1\" viewBox=\"0 0 385.78125 248.518125\" width=\"385.78125pt\" xmlns=\"http://www.w3.org/2000/svg\" xmlns:xlink=\"http://www.w3.org/1999/xlink\">\r\n <defs>\r\n  <style type=\"text/css\">\r\n*{stroke-linecap:butt;stroke-linejoin:round;white-space:pre;}\r\n  </style>\r\n </defs>\r\n <g id=\"figure_1\">\r\n  <g id=\"patch_1\">\r\n   <path d=\"M 0 248.518125 \r\nL 385.78125 248.518125 \r\nL 385.78125 0 \r\nL 0 0 \r\nz\r\n\" style=\"fill:none;\"/>\r\n  </g>\r\n  <g id=\"axes_1\">\r\n   <g id=\"patch_2\">\r\n    <path d=\"M 43.78125 224.64 \r\nL 378.58125 224.64 \r\nL 378.58125 7.2 \r\nL 43.78125 7.2 \r\nz\r\n\" style=\"fill:#ffffff;\"/>\r\n   </g>\r\n   <g id=\"patch_3\">\r\n    <path clip-path=\"url(#pce4b4b0d37)\" d=\"M 58.999432 224.64 \r\nL 89.435795 224.64 \r\nL 89.435795 17.554286 \r\nL 58.999432 17.554286 \r\nz\r\n\" style=\"fill:#1f77b4;\"/>\r\n   </g>\r\n   <g id=\"patch_4\">\r\n    <path clip-path=\"url(#pce4b4b0d37)\" d=\"M 89.435795 224.64 \r\nL 119.872159 224.64 \r\nL 119.872159 17.554286 \r\nL 89.435795 17.554286 \r\nz\r\n\" style=\"fill:#1f77b4;\"/>\r\n   </g>\r\n   <g id=\"patch_5\">\r\n    <path clip-path=\"url(#pce4b4b0d37)\" d=\"M 119.872159 224.64 \r\nL 150.308523 224.64 \r\nL 150.308523 224.64 \r\nL 119.872159 224.64 \r\nz\r\n\" style=\"fill:#1f77b4;\"/>\r\n   </g>\r\n   <g id=\"patch_6\">\r\n    <path clip-path=\"url(#pce4b4b0d37)\" d=\"M 150.308523 224.64 \r\nL 180.744886 224.64 \r\nL 180.744886 224.64 \r\nL 150.308523 224.64 \r\nz\r\n\" style=\"fill:#1f77b4;\"/>\r\n   </g>\r\n   <g id=\"patch_7\">\r\n    <path clip-path=\"url(#pce4b4b0d37)\" d=\"M 180.744886 224.64 \r\nL 211.18125 224.64 \r\nL 211.18125 224.64 \r\nL 180.744886 224.64 \r\nz\r\n\" style=\"fill:#1f77b4;\"/>\r\n   </g>\r\n   <g id=\"patch_8\">\r\n    <path clip-path=\"url(#pce4b4b0d37)\" d=\"M 211.18125 224.64 \r\nL 241.617614 224.64 \r\nL 241.617614 224.64 \r\nL 211.18125 224.64 \r\nz\r\n\" style=\"fill:#1f77b4;\"/>\r\n   </g>\r\n   <g id=\"patch_9\">\r\n    <path clip-path=\"url(#pce4b4b0d37)\" d=\"M 241.617614 224.64 \r\nL 272.053977 224.64 \r\nL 272.053977 224.64 \r\nL 241.617614 224.64 \r\nz\r\n\" style=\"fill:#1f77b4;\"/>\r\n   </g>\r\n   <g id=\"patch_10\">\r\n    <path clip-path=\"url(#pce4b4b0d37)\" d=\"M 272.053977 224.64 \r\nL 302.490341 224.64 \r\nL 302.490341 224.64 \r\nL 272.053977 224.64 \r\nz\r\n\" style=\"fill:#1f77b4;\"/>\r\n   </g>\r\n   <g id=\"patch_11\">\r\n    <path clip-path=\"url(#pce4b4b0d37)\" d=\"M 302.490341 224.64 \r\nL 332.926705 224.64 \r\nL 332.926705 224.64 \r\nL 302.490341 224.64 \r\nz\r\n\" style=\"fill:#1f77b4;\"/>\r\n   </g>\r\n   <g id=\"patch_12\">\r\n    <path clip-path=\"url(#pce4b4b0d37)\" d=\"M 332.926705 224.64 \r\nL 363.363068 224.64 \r\nL 363.363068 17.554286 \r\nL 332.926705 17.554286 \r\nz\r\n\" style=\"fill:#1f77b4;\"/>\r\n   </g>\r\n   <g id=\"matplotlib.axis_1\">\r\n    <g id=\"xtick_1\">\r\n     <g id=\"line2d_1\">\r\n      <defs>\r\n       <path d=\"M 0 0 \r\nL 0 3.5 \r\n\" id=\"mfa6415b1d9\" style=\"stroke:#000000;stroke-width:0.8;\"/>\r\n      </defs>\r\n      <g>\r\n       <use style=\"stroke:#000000;stroke-width:0.8;\" x=\"76.829196\" xlink:href=\"#mfa6415b1d9\" y=\"224.64\"/>\r\n      </g>\r\n     </g>\r\n     <g id=\"text_1\">\r\n      <!-- 20000 -->\r\n      <defs>\r\n       <path d=\"M 19.1875 8.296875 \r\nL 53.609375 8.296875 \r\nL 53.609375 0 \r\nL 7.328125 0 \r\nL 7.328125 8.296875 \r\nQ 12.9375 14.109375 22.625 23.890625 \r\nQ 32.328125 33.6875 34.8125 36.53125 \r\nQ 39.546875 41.84375 41.421875 45.53125 \r\nQ 43.3125 49.21875 43.3125 52.78125 \r\nQ 43.3125 58.59375 39.234375 62.25 \r\nQ 35.15625 65.921875 28.609375 65.921875 \r\nQ 23.96875 65.921875 18.8125 64.3125 \r\nQ 13.671875 62.703125 7.8125 59.421875 \r\nL 7.8125 69.390625 \r\nQ 13.765625 71.78125 18.9375 73 \r\nQ 24.125 74.21875 28.421875 74.21875 \r\nQ 39.75 74.21875 46.484375 68.546875 \r\nQ 53.21875 62.890625 53.21875 53.421875 \r\nQ 53.21875 48.921875 51.53125 44.890625 \r\nQ 49.859375 40.875 45.40625 35.40625 \r\nQ 44.1875 33.984375 37.640625 27.21875 \r\nQ 31.109375 20.453125 19.1875 8.296875 \r\nz\r\n\" id=\"DejaVuSans-50\"/>\r\n       <path d=\"M 31.78125 66.40625 \r\nQ 24.171875 66.40625 20.328125 58.90625 \r\nQ 16.5 51.421875 16.5 36.375 \r\nQ 16.5 21.390625 20.328125 13.890625 \r\nQ 24.171875 6.390625 31.78125 6.390625 \r\nQ 39.453125 6.390625 43.28125 13.890625 \r\nQ 47.125 21.390625 47.125 36.375 \r\nQ 47.125 51.421875 43.28125 58.90625 \r\nQ 39.453125 66.40625 31.78125 66.40625 \r\nz\r\nM 31.78125 74.21875 \r\nQ 44.046875 74.21875 50.515625 64.515625 \r\nQ 56.984375 54.828125 56.984375 36.375 \r\nQ 56.984375 17.96875 50.515625 8.265625 \r\nQ 44.046875 -1.421875 31.78125 -1.421875 \r\nQ 19.53125 -1.421875 13.0625 8.265625 \r\nQ 6.59375 17.96875 6.59375 36.375 \r\nQ 6.59375 54.828125 13.0625 64.515625 \r\nQ 19.53125 74.21875 31.78125 74.21875 \r\nz\r\n\" id=\"DejaVuSans-48\"/>\r\n      </defs>\r\n      <g transform=\"translate(60.922946 239.238437)scale(0.1 -0.1)\">\r\n       <use xlink:href=\"#DejaVuSans-50\"/>\r\n       <use x=\"63.623047\" xlink:href=\"#DejaVuSans-48\"/>\r\n       <use x=\"127.246094\" xlink:href=\"#DejaVuSans-48\"/>\r\n       <use x=\"190.869141\" xlink:href=\"#DejaVuSans-48\"/>\r\n       <use x=\"254.492188\" xlink:href=\"#DejaVuSans-48\"/>\r\n      </g>\r\n     </g>\r\n    </g>\r\n    <g id=\"xtick_2\">\r\n     <g id=\"line2d_2\">\r\n      <g>\r\n       <use style=\"stroke:#000000;stroke-width:0.8;\" x=\"139.554839\" xlink:href=\"#mfa6415b1d9\" y=\"224.64\"/>\r\n      </g>\r\n     </g>\r\n     <g id=\"text_2\">\r\n      <!-- 40000 -->\r\n      <defs>\r\n       <path d=\"M 37.796875 64.3125 \r\nL 12.890625 25.390625 \r\nL 37.796875 25.390625 \r\nz\r\nM 35.203125 72.90625 \r\nL 47.609375 72.90625 \r\nL 47.609375 25.390625 \r\nL 58.015625 25.390625 \r\nL 58.015625 17.1875 \r\nL 47.609375 17.1875 \r\nL 47.609375 0 \r\nL 37.796875 0 \r\nL 37.796875 17.1875 \r\nL 4.890625 17.1875 \r\nL 4.890625 26.703125 \r\nz\r\n\" id=\"DejaVuSans-52\"/>\r\n      </defs>\r\n      <g transform=\"translate(123.648589 239.238437)scale(0.1 -0.1)\">\r\n       <use xlink:href=\"#DejaVuSans-52\"/>\r\n       <use x=\"63.623047\" xlink:href=\"#DejaVuSans-48\"/>\r\n       <use x=\"127.246094\" xlink:href=\"#DejaVuSans-48\"/>\r\n       <use x=\"190.869141\" xlink:href=\"#DejaVuSans-48\"/>\r\n       <use x=\"254.492188\" xlink:href=\"#DejaVuSans-48\"/>\r\n      </g>\r\n     </g>\r\n    </g>\r\n    <g id=\"xtick_3\">\r\n     <g id=\"line2d_3\">\r\n      <g>\r\n       <use style=\"stroke:#000000;stroke-width:0.8;\" x=\"202.280481\" xlink:href=\"#mfa6415b1d9\" y=\"224.64\"/>\r\n      </g>\r\n     </g>\r\n     <g id=\"text_3\">\r\n      <!-- 60000 -->\r\n      <defs>\r\n       <path d=\"M 33.015625 40.375 \r\nQ 26.375 40.375 22.484375 35.828125 \r\nQ 18.609375 31.296875 18.609375 23.390625 \r\nQ 18.609375 15.53125 22.484375 10.953125 \r\nQ 26.375 6.390625 33.015625 6.390625 \r\nQ 39.65625 6.390625 43.53125 10.953125 \r\nQ 47.40625 15.53125 47.40625 23.390625 \r\nQ 47.40625 31.296875 43.53125 35.828125 \r\nQ 39.65625 40.375 33.015625 40.375 \r\nz\r\nM 52.59375 71.296875 \r\nL 52.59375 62.3125 \r\nQ 48.875 64.0625 45.09375 64.984375 \r\nQ 41.3125 65.921875 37.59375 65.921875 \r\nQ 27.828125 65.921875 22.671875 59.328125 \r\nQ 17.53125 52.734375 16.796875 39.40625 \r\nQ 19.671875 43.65625 24.015625 45.921875 \r\nQ 28.375 48.1875 33.59375 48.1875 \r\nQ 44.578125 48.1875 50.953125 41.515625 \r\nQ 57.328125 34.859375 57.328125 23.390625 \r\nQ 57.328125 12.15625 50.6875 5.359375 \r\nQ 44.046875 -1.421875 33.015625 -1.421875 \r\nQ 20.359375 -1.421875 13.671875 8.265625 \r\nQ 6.984375 17.96875 6.984375 36.375 \r\nQ 6.984375 53.65625 15.1875 63.9375 \r\nQ 23.390625 74.21875 37.203125 74.21875 \r\nQ 40.921875 74.21875 44.703125 73.484375 \r\nQ 48.484375 72.75 52.59375 71.296875 \r\nz\r\n\" id=\"DejaVuSans-54\"/>\r\n      </defs>\r\n      <g transform=\"translate(186.374231 239.238437)scale(0.1 -0.1)\">\r\n       <use xlink:href=\"#DejaVuSans-54\"/>\r\n       <use x=\"63.623047\" xlink:href=\"#DejaVuSans-48\"/>\r\n       <use x=\"127.246094\" xlink:href=\"#DejaVuSans-48\"/>\r\n       <use x=\"190.869141\" xlink:href=\"#DejaVuSans-48\"/>\r\n       <use x=\"254.492188\" xlink:href=\"#DejaVuSans-48\"/>\r\n      </g>\r\n     </g>\r\n    </g>\r\n    <g id=\"xtick_4\">\r\n     <g id=\"line2d_4\">\r\n      <g>\r\n       <use style=\"stroke:#000000;stroke-width:0.8;\" x=\"265.006124\" xlink:href=\"#mfa6415b1d9\" y=\"224.64\"/>\r\n      </g>\r\n     </g>\r\n     <g id=\"text_4\">\r\n      <!-- 80000 -->\r\n      <defs>\r\n       <path d=\"M 31.78125 34.625 \r\nQ 24.75 34.625 20.71875 30.859375 \r\nQ 16.703125 27.09375 16.703125 20.515625 \r\nQ 16.703125 13.921875 20.71875 10.15625 \r\nQ 24.75 6.390625 31.78125 6.390625 \r\nQ 38.8125 6.390625 42.859375 10.171875 \r\nQ 46.921875 13.96875 46.921875 20.515625 \r\nQ 46.921875 27.09375 42.890625 30.859375 \r\nQ 38.875 34.625 31.78125 34.625 \r\nz\r\nM 21.921875 38.8125 \r\nQ 15.578125 40.375 12.03125 44.71875 \r\nQ 8.5 49.078125 8.5 55.328125 \r\nQ 8.5 64.0625 14.71875 69.140625 \r\nQ 20.953125 74.21875 31.78125 74.21875 \r\nQ 42.671875 74.21875 48.875 69.140625 \r\nQ 55.078125 64.0625 55.078125 55.328125 \r\nQ 55.078125 49.078125 51.53125 44.71875 \r\nQ 48 40.375 41.703125 38.8125 \r\nQ 48.828125 37.15625 52.796875 32.3125 \r\nQ 56.78125 27.484375 56.78125 20.515625 \r\nQ 56.78125 9.90625 50.3125 4.234375 \r\nQ 43.84375 -1.421875 31.78125 -1.421875 \r\nQ 19.734375 -1.421875 13.25 4.234375 \r\nQ 6.78125 9.90625 6.78125 20.515625 \r\nQ 6.78125 27.484375 10.78125 32.3125 \r\nQ 14.796875 37.15625 21.921875 38.8125 \r\nz\r\nM 18.3125 54.390625 \r\nQ 18.3125 48.734375 21.84375 45.5625 \r\nQ 25.390625 42.390625 31.78125 42.390625 \r\nQ 38.140625 42.390625 41.71875 45.5625 \r\nQ 45.3125 48.734375 45.3125 54.390625 \r\nQ 45.3125 60.0625 41.71875 63.234375 \r\nQ 38.140625 66.40625 31.78125 66.40625 \r\nQ 25.390625 66.40625 21.84375 63.234375 \r\nQ 18.3125 60.0625 18.3125 54.390625 \r\nz\r\n\" id=\"DejaVuSans-56\"/>\r\n      </defs>\r\n      <g transform=\"translate(249.099874 239.238437)scale(0.1 -0.1)\">\r\n       <use xlink:href=\"#DejaVuSans-56\"/>\r\n       <use x=\"63.623047\" xlink:href=\"#DejaVuSans-48\"/>\r\n       <use x=\"127.246094\" xlink:href=\"#DejaVuSans-48\"/>\r\n       <use x=\"190.869141\" xlink:href=\"#DejaVuSans-48\"/>\r\n       <use x=\"254.492188\" xlink:href=\"#DejaVuSans-48\"/>\r\n      </g>\r\n     </g>\r\n    </g>\r\n    <g id=\"xtick_5\">\r\n     <g id=\"line2d_5\">\r\n      <g>\r\n       <use style=\"stroke:#000000;stroke-width:0.8;\" x=\"327.731767\" xlink:href=\"#mfa6415b1d9\" y=\"224.64\"/>\r\n      </g>\r\n     </g>\r\n     <g id=\"text_5\">\r\n      <!-- 100000 -->\r\n      <defs>\r\n       <path d=\"M 12.40625 8.296875 \r\nL 28.515625 8.296875 \r\nL 28.515625 63.921875 \r\nL 10.984375 60.40625 \r\nL 10.984375 69.390625 \r\nL 28.421875 72.90625 \r\nL 38.28125 72.90625 \r\nL 38.28125 8.296875 \r\nL 54.390625 8.296875 \r\nL 54.390625 0 \r\nL 12.40625 0 \r\nz\r\n\" id=\"DejaVuSans-49\"/>\r\n      </defs>\r\n      <g transform=\"translate(308.644267 239.238437)scale(0.1 -0.1)\">\r\n       <use xlink:href=\"#DejaVuSans-49\"/>\r\n       <use x=\"63.623047\" xlink:href=\"#DejaVuSans-48\"/>\r\n       <use x=\"127.246094\" xlink:href=\"#DejaVuSans-48\"/>\r\n       <use x=\"190.869141\" xlink:href=\"#DejaVuSans-48\"/>\r\n       <use x=\"254.492188\" xlink:href=\"#DejaVuSans-48\"/>\r\n       <use x=\"318.115234\" xlink:href=\"#DejaVuSans-48\"/>\r\n      </g>\r\n     </g>\r\n    </g>\r\n   </g>\r\n   <g id=\"matplotlib.axis_2\">\r\n    <g id=\"ytick_1\">\r\n     <g id=\"line2d_6\">\r\n      <defs>\r\n       <path d=\"M 0 0 \r\nL -3.5 0 \r\n\" id=\"m623197bfd2\" style=\"stroke:#000000;stroke-width:0.8;\"/>\r\n      </defs>\r\n      <g>\r\n       <use style=\"stroke:#000000;stroke-width:0.8;\" x=\"43.78125\" xlink:href=\"#m623197bfd2\" y=\"224.64\"/>\r\n      </g>\r\n     </g>\r\n     <g id=\"text_6\">\r\n      <!-- 0.0 -->\r\n      <defs>\r\n       <path d=\"M 10.6875 12.40625 \r\nL 21 12.40625 \r\nL 21 0 \r\nL 10.6875 0 \r\nz\r\n\" id=\"DejaVuSans-46\"/>\r\n      </defs>\r\n      <g transform=\"translate(20.878125 228.439219)scale(0.1 -0.1)\">\r\n       <use xlink:href=\"#DejaVuSans-48\"/>\r\n       <use x=\"63.623047\" xlink:href=\"#DejaVuSans-46\"/>\r\n       <use x=\"95.410156\" xlink:href=\"#DejaVuSans-48\"/>\r\n      </g>\r\n     </g>\r\n    </g>\r\n    <g id=\"ytick_2\">\r\n     <g id=\"line2d_7\">\r\n      <g>\r\n       <use style=\"stroke:#000000;stroke-width:0.8;\" x=\"43.78125\" xlink:href=\"#m623197bfd2\" y=\"183.222857\"/>\r\n      </g>\r\n     </g>\r\n     <g id=\"text_7\">\r\n      <!-- 0.2 -->\r\n      <g transform=\"translate(20.878125 187.022076)scale(0.1 -0.1)\">\r\n       <use xlink:href=\"#DejaVuSans-48\"/>\r\n       <use x=\"63.623047\" xlink:href=\"#DejaVuSans-46\"/>\r\n       <use x=\"95.410156\" xlink:href=\"#DejaVuSans-50\"/>\r\n      </g>\r\n     </g>\r\n    </g>\r\n    <g id=\"ytick_3\">\r\n     <g id=\"line2d_8\">\r\n      <g>\r\n       <use style=\"stroke:#000000;stroke-width:0.8;\" x=\"43.78125\" xlink:href=\"#m623197bfd2\" y=\"141.805714\"/>\r\n      </g>\r\n     </g>\r\n     <g id=\"text_8\">\r\n      <!-- 0.4 -->\r\n      <g transform=\"translate(20.878125 145.604933)scale(0.1 -0.1)\">\r\n       <use xlink:href=\"#DejaVuSans-48\"/>\r\n       <use x=\"63.623047\" xlink:href=\"#DejaVuSans-46\"/>\r\n       <use x=\"95.410156\" xlink:href=\"#DejaVuSans-52\"/>\r\n      </g>\r\n     </g>\r\n    </g>\r\n    <g id=\"ytick_4\">\r\n     <g id=\"line2d_9\">\r\n      <g>\r\n       <use style=\"stroke:#000000;stroke-width:0.8;\" x=\"43.78125\" xlink:href=\"#m623197bfd2\" y=\"100.388571\"/>\r\n      </g>\r\n     </g>\r\n     <g id=\"text_9\">\r\n      <!-- 0.6 -->\r\n      <g transform=\"translate(20.878125 104.18779)scale(0.1 -0.1)\">\r\n       <use xlink:href=\"#DejaVuSans-48\"/>\r\n       <use x=\"63.623047\" xlink:href=\"#DejaVuSans-46\"/>\r\n       <use x=\"95.410156\" xlink:href=\"#DejaVuSans-54\"/>\r\n      </g>\r\n     </g>\r\n    </g>\r\n    <g id=\"ytick_5\">\r\n     <g id=\"line2d_10\">\r\n      <g>\r\n       <use style=\"stroke:#000000;stroke-width:0.8;\" x=\"43.78125\" xlink:href=\"#m623197bfd2\" y=\"58.971429\"/>\r\n      </g>\r\n     </g>\r\n     <g id=\"text_10\">\r\n      <!-- 0.8 -->\r\n      <g transform=\"translate(20.878125 62.770647)scale(0.1 -0.1)\">\r\n       <use xlink:href=\"#DejaVuSans-48\"/>\r\n       <use x=\"63.623047\" xlink:href=\"#DejaVuSans-46\"/>\r\n       <use x=\"95.410156\" xlink:href=\"#DejaVuSans-56\"/>\r\n      </g>\r\n     </g>\r\n    </g>\r\n    <g id=\"ytick_6\">\r\n     <g id=\"line2d_11\">\r\n      <g>\r\n       <use style=\"stroke:#000000;stroke-width:0.8;\" x=\"43.78125\" xlink:href=\"#m623197bfd2\" y=\"17.554286\"/>\r\n      </g>\r\n     </g>\r\n     <g id=\"text_11\">\r\n      <!-- 1.0 -->\r\n      <g transform=\"translate(20.878125 21.353504)scale(0.1 -0.1)\">\r\n       <use xlink:href=\"#DejaVuSans-49\"/>\r\n       <use x=\"63.623047\" xlink:href=\"#DejaVuSans-46\"/>\r\n       <use x=\"95.410156\" xlink:href=\"#DejaVuSans-48\"/>\r\n      </g>\r\n     </g>\r\n    </g>\r\n    <g id=\"text_12\">\r\n     <!-- Frequency -->\r\n     <defs>\r\n      <path d=\"M 9.8125 72.90625 \r\nL 51.703125 72.90625 \r\nL 51.703125 64.59375 \r\nL 19.671875 64.59375 \r\nL 19.671875 43.109375 \r\nL 48.578125 43.109375 \r\nL 48.578125 34.8125 \r\nL 19.671875 34.8125 \r\nL 19.671875 0 \r\nL 9.8125 0 \r\nz\r\n\" id=\"DejaVuSans-70\"/>\r\n      <path d=\"M 41.109375 46.296875 \r\nQ 39.59375 47.171875 37.8125 47.578125 \r\nQ 36.03125 48 33.890625 48 \r\nQ 26.265625 48 22.1875 43.046875 \r\nQ 18.109375 38.09375 18.109375 28.8125 \r\nL 18.109375 0 \r\nL 9.078125 0 \r\nL 9.078125 54.6875 \r\nL 18.109375 54.6875 \r\nL 18.109375 46.1875 \r\nQ 20.953125 51.171875 25.484375 53.578125 \r\nQ 30.03125 56 36.53125 56 \r\nQ 37.453125 56 38.578125 55.875 \r\nQ 39.703125 55.765625 41.0625 55.515625 \r\nz\r\n\" id=\"DejaVuSans-114\"/>\r\n      <path d=\"M 56.203125 29.59375 \r\nL 56.203125 25.203125 \r\nL 14.890625 25.203125 \r\nQ 15.484375 15.921875 20.484375 11.0625 \r\nQ 25.484375 6.203125 34.421875 6.203125 \r\nQ 39.59375 6.203125 44.453125 7.46875 \r\nQ 49.3125 8.734375 54.109375 11.28125 \r\nL 54.109375 2.78125 \r\nQ 49.265625 0.734375 44.1875 -0.34375 \r\nQ 39.109375 -1.421875 33.890625 -1.421875 \r\nQ 20.796875 -1.421875 13.15625 6.1875 \r\nQ 5.515625 13.8125 5.515625 26.8125 \r\nQ 5.515625 40.234375 12.765625 48.109375 \r\nQ 20.015625 56 32.328125 56 \r\nQ 43.359375 56 49.78125 48.890625 \r\nQ 56.203125 41.796875 56.203125 29.59375 \r\nz\r\nM 47.21875 32.234375 \r\nQ 47.125 39.59375 43.09375 43.984375 \r\nQ 39.0625 48.390625 32.421875 48.390625 \r\nQ 24.90625 48.390625 20.390625 44.140625 \r\nQ 15.875 39.890625 15.1875 32.171875 \r\nz\r\n\" id=\"DejaVuSans-101\"/>\r\n      <path d=\"M 14.796875 27.296875 \r\nQ 14.796875 17.390625 18.875 11.75 \r\nQ 22.953125 6.109375 30.078125 6.109375 \r\nQ 37.203125 6.109375 41.296875 11.75 \r\nQ 45.40625 17.390625 45.40625 27.296875 \r\nQ 45.40625 37.203125 41.296875 42.84375 \r\nQ 37.203125 48.484375 30.078125 48.484375 \r\nQ 22.953125 48.484375 18.875 42.84375 \r\nQ 14.796875 37.203125 14.796875 27.296875 \r\nz\r\nM 45.40625 8.203125 \r\nQ 42.578125 3.328125 38.25 0.953125 \r\nQ 33.9375 -1.421875 27.875 -1.421875 \r\nQ 17.96875 -1.421875 11.734375 6.484375 \r\nQ 5.515625 14.40625 5.515625 27.296875 \r\nQ 5.515625 40.1875 11.734375 48.09375 \r\nQ 17.96875 56 27.875 56 \r\nQ 33.9375 56 38.25 53.625 \r\nQ 42.578125 51.265625 45.40625 46.390625 \r\nL 45.40625 54.6875 \r\nL 54.390625 54.6875 \r\nL 54.390625 -20.796875 \r\nL 45.40625 -20.796875 \r\nz\r\n\" id=\"DejaVuSans-113\"/>\r\n      <path d=\"M 8.5 21.578125 \r\nL 8.5 54.6875 \r\nL 17.484375 54.6875 \r\nL 17.484375 21.921875 \r\nQ 17.484375 14.15625 20.5 10.265625 \r\nQ 23.53125 6.390625 29.59375 6.390625 \r\nQ 36.859375 6.390625 41.078125 11.03125 \r\nQ 45.3125 15.671875 45.3125 23.6875 \r\nL 45.3125 54.6875 \r\nL 54.296875 54.6875 \r\nL 54.296875 0 \r\nL 45.3125 0 \r\nL 45.3125 8.40625 \r\nQ 42.046875 3.421875 37.71875 1 \r\nQ 33.40625 -1.421875 27.6875 -1.421875 \r\nQ 18.265625 -1.421875 13.375 4.4375 \r\nQ 8.5 10.296875 8.5 21.578125 \r\nz\r\nM 31.109375 56 \r\nz\r\n\" id=\"DejaVuSans-117\"/>\r\n      <path d=\"M 54.890625 33.015625 \r\nL 54.890625 0 \r\nL 45.90625 0 \r\nL 45.90625 32.71875 \r\nQ 45.90625 40.484375 42.875 44.328125 \r\nQ 39.84375 48.1875 33.796875 48.1875 \r\nQ 26.515625 48.1875 22.3125 43.546875 \r\nQ 18.109375 38.921875 18.109375 30.90625 \r\nL 18.109375 0 \r\nL 9.078125 0 \r\nL 9.078125 54.6875 \r\nL 18.109375 54.6875 \r\nL 18.109375 46.1875 \r\nQ 21.34375 51.125 25.703125 53.5625 \r\nQ 30.078125 56 35.796875 56 \r\nQ 45.21875 56 50.046875 50.171875 \r\nQ 54.890625 44.34375 54.890625 33.015625 \r\nz\r\n\" id=\"DejaVuSans-110\"/>\r\n      <path d=\"M 48.78125 52.59375 \r\nL 48.78125 44.1875 \r\nQ 44.96875 46.296875 41.140625 47.34375 \r\nQ 37.3125 48.390625 33.40625 48.390625 \r\nQ 24.65625 48.390625 19.8125 42.84375 \r\nQ 14.984375 37.3125 14.984375 27.296875 \r\nQ 14.984375 17.28125 19.8125 11.734375 \r\nQ 24.65625 6.203125 33.40625 6.203125 \r\nQ 37.3125 6.203125 41.140625 7.25 \r\nQ 44.96875 8.296875 48.78125 10.40625 \r\nL 48.78125 2.09375 \r\nQ 45.015625 0.34375 40.984375 -0.53125 \r\nQ 36.96875 -1.421875 32.421875 -1.421875 \r\nQ 20.0625 -1.421875 12.78125 6.34375 \r\nQ 5.515625 14.109375 5.515625 27.296875 \r\nQ 5.515625 40.671875 12.859375 48.328125 \r\nQ 20.21875 56 33.015625 56 \r\nQ 37.15625 56 41.109375 55.140625 \r\nQ 45.0625 54.296875 48.78125 52.59375 \r\nz\r\n\" id=\"DejaVuSans-99\"/>\r\n      <path d=\"M 32.171875 -5.078125 \r\nQ 28.375 -14.84375 24.75 -17.8125 \r\nQ 21.140625 -20.796875 15.09375 -20.796875 \r\nL 7.90625 -20.796875 \r\nL 7.90625 -13.28125 \r\nL 13.1875 -13.28125 \r\nQ 16.890625 -13.28125 18.9375 -11.515625 \r\nQ 21 -9.765625 23.484375 -3.21875 \r\nL 25.09375 0.875 \r\nL 2.984375 54.6875 \r\nL 12.5 54.6875 \r\nL 29.59375 11.921875 \r\nL 46.6875 54.6875 \r\nL 56.203125 54.6875 \r\nz\r\n\" id=\"DejaVuSans-121\"/>\r\n     </defs>\r\n     <g transform=\"translate(14.798438 142.217656)rotate(-90)scale(0.1 -0.1)\">\r\n      <use xlink:href=\"#DejaVuSans-70\"/>\r\n      <use x=\"57.410156\" xlink:href=\"#DejaVuSans-114\"/>\r\n      <use x=\"98.492188\" xlink:href=\"#DejaVuSans-101\"/>\r\n      <use x=\"160.015625\" xlink:href=\"#DejaVuSans-113\"/>\r\n      <use x=\"223.492188\" xlink:href=\"#DejaVuSans-117\"/>\r\n      <use x=\"286.871094\" xlink:href=\"#DejaVuSans-101\"/>\r\n      <use x=\"348.394531\" xlink:href=\"#DejaVuSans-110\"/>\r\n      <use x=\"411.773438\" xlink:href=\"#DejaVuSans-99\"/>\r\n      <use x=\"466.753906\" xlink:href=\"#DejaVuSans-121\"/>\r\n     </g>\r\n    </g>\r\n   </g>\r\n   <g id=\"patch_13\">\r\n    <path d=\"M 43.78125 224.64 \r\nL 43.78125 7.2 \r\n\" style=\"fill:none;stroke:#000000;stroke-linecap:square;stroke-linejoin:miter;stroke-width:0.8;\"/>\r\n   </g>\r\n   <g id=\"patch_14\">\r\n    <path d=\"M 378.58125 224.64 \r\nL 378.58125 7.2 \r\n\" style=\"fill:none;stroke:#000000;stroke-linecap:square;stroke-linejoin:miter;stroke-width:0.8;\"/>\r\n   </g>\r\n   <g id=\"patch_15\">\r\n    <path d=\"M 43.78125 224.64 \r\nL 378.58125 224.64 \r\n\" style=\"fill:none;stroke:#000000;stroke-linecap:square;stroke-linejoin:miter;stroke-width:0.8;\"/>\r\n   </g>\r\n   <g id=\"patch_16\">\r\n    <path d=\"M 43.78125 7.2 \r\nL 378.58125 7.2 \r\n\" style=\"fill:none;stroke:#000000;stroke-linecap:square;stroke-linejoin:miter;stroke-width:0.8;\"/>\r\n   </g>\r\n  </g>\r\n </g>\r\n <defs>\r\n  <clipPath id=\"pce4b4b0d37\">\r\n   <rect height=\"217.44\" width=\"334.8\" x=\"43.78125\" y=\"7.2\"/>\r\n  </clipPath>\r\n </defs>\r\n</svg>\r\n",
      "image/png": "[encoded data removed]"
     },
     "metadata": {
      "needs_background": "light"
     }
    }
   ],
   "source": [
    "df_train.groupby('notRepairedDamage')['SaleID'].count().plot(kind='hist')  "
   ]
  },
  {
   "cell_type": "code",
   "execution_count": 11,
   "metadata": {},
   "outputs": [],
   "source": [
    "df_train_dumies = pd.get_dummies(df_train[numerical_cols[0]],columns=['notRepairedDamage'])   # 哑变量变变换之后的数据\n",
    "df_train_dumies.head()\n",
    "df_train_features = df_train_dumies  # 保存哑变量之后的结果"
   ]
  },
  {
   "cell_type": "code",
   "execution_count": 31,
   "metadata": {},
   "outputs": [],
   "source": [
    "# 接下来进行无量纲化处理，区间缩放法缩放到01区间\n",
    "from sklearn.preprocessing import MinMaxScaler\n",
    "df = pd.DataFrame(MinMaxScaler().fit_transform(df_train[['kilometer','model','brand']].values),columns=['kilometer','model','brand'])   # 这里有个知识点是df转array"
   ]
  },
  {
   "cell_type": "code",
   "execution_count": null,
   "metadata": {},
   "outputs": [],
   "source": []
  }
 ],
 "metadata": {
  "language_info": {
   "name": "python",
   "codemirror_mode": {
    "name": "ipython",
    "version": 3
   },
   "version": "3.7.3-final"
  },
  "orig_nbformat": 2,
  "file_extension": ".py",
  "mimetype": "text/x-python",
  "name": "python",
  "npconvert_exporter": "python",
  "pygments_lexer": "ipython3",
  "version": 3,
  "kernelspec": {
   "name": "python37364bit45e779f0669b46378cfe1f5e1afa1b65",
   "display_name": "Python 3.7.3 64-bit"
  }
 },
 "nbformat": 4,
 "nbformat_minor": 2
}